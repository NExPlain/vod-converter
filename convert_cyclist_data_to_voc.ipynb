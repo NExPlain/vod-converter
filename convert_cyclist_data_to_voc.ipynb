{
 "cells": [
  {
   "cell_type": "code",
   "execution_count": 43,
   "metadata": {},
   "outputs": [],
   "source": [
    "# TODO: filled in dataset path, e.g. '/demo-mount/datasets/cyclist'\n",
    "cyclist_dataset_path = None\n",
    "\n",
    "# TODO: filled in output voc dataset path, e.g. '/demo-mount/datasets/cyclist-voc'\n",
    "output_dataset_path = None\n",
    "\n",
    "# TODO: filled cs231n project directory, e.g. '/home/lizhe/cs231n_project'\n",
    "cs231n_project_path = None\n",
    "\n",
    "assert cyclist_dataset_path is not None\n",
    "assert output_dataset_path is not None\n",
    "assert cs231n_project_path is not None\n",
    "\n",
    "training_subdir = 'leftImg8bit/train/tsinghuaDaimlerDataset/'\n",
    "validation_subdir = 'leftImg8bit/valid/tsinghuaDaimlerDataset/'\n",
    "test_subdir = 'leftImg8bit/test/tsinghuaDaimlerDataset/'"
   ]
  },
  {
   "cell_type": "code",
   "execution_count": 58,
   "metadata": {},
   "outputs": [],
   "source": [
    "%%bash -s \"$cyclist_dataset_path\" \"$training_subdir\" \"$validation_subdir\" \"$test_subdir\"\n",
    "\n",
    "cd $1\n",
    "ls -1 $2 | cut -d. -f1 > train.txt\n",
    "ls -1 $3 | cut -d. -f1 > valid.txt\n",
    "ls -1 $4 | cut -d. -f1 > test.txt\n",
    "\n",
    "# head -500 full_train.txt > train.txt\n",
    "# head -500 full_valid.txt > valid.txt\n",
    "# head -500 full_test.txt > test.txt"
   ]
  },
  {
   "cell_type": "code",
   "execution_count": 59,
   "metadata": {},
   "outputs": [
    {
     "name": "stdout",
     "output_type": "stream",
     "text": [
      "Successfully converted from tsinghua-daimler to voc.\n"
     ]
    },
    {
     "name": "stderr",
     "output_type": "stream",
     "text": [
      "INFO:root:Namespace(filter_images_without_labels=False, from_key='tsinghua-daimler', from_path='/demo-mount/datasets/cyclist', select_only_known_labels=False, to_key='voc', to_path='/demo-mount/datasets/cyclist-voc')\n"
     ]
    }
   ],
   "source": [
    "%%bash -s \"$cyclist_dataset_path\" \"$output_dataset_path\" \"$cs231n_project_path\"\n",
    "\n",
    "cd $3/vod-converter\n",
    "python vod_converter/main.py --from tsinghua-daimler --from-path $1 --to voc --to-path $2"
   ]
  },
  {
   "cell_type": "code",
   "execution_count": 61,
   "metadata": {},
   "outputs": [],
   "source": [
    "%%bash -s \"$cyclist_dataset_path\" \"$output_dataset_path\"\n",
    "\n",
    "cp $1/train.txt $2/VOC2012/ImageSets/Main/raw_train.txt\n",
    "cp $1/valid.txt $2/VOC2012/ImageSets/Main/raw_valid.txt\n",
    "cp $1/test.txt $2/VOC2012/ImageSets/Main/raw_test.txt\n",
    "\n",
    "cd $2/VOC2012/ImageSets/Main/\n",
    "\n",
    "sed 's/_leftImg8bit//g' raw_train.txt > train.txt\n",
    "sed 's/_leftImg8bit//g' raw_valid.txt > valid.txt\n",
    "sed 's/_leftImg8bit//g' raw_test.txt > test.txt\n",
    "\n",
    "rm raw_train.txt\n",
    "rm raw_valid.txt\n",
    "rm raw_test.txt"
   ]
  }
 ],
 "metadata": {
  "kernelspec": {
   "display_name": "Python 3",
   "language": "python",
   "name": "python3"
  },
  "language_info": {
   "codemirror_mode": {
    "name": "ipython",
    "version": 3
   },
   "file_extension": ".py",
   "mimetype": "text/x-python",
   "name": "python",
   "nbconvert_exporter": "python",
   "pygments_lexer": "ipython3",
   "version": "3.7.6"
  }
 },
 "nbformat": 4,
 "nbformat_minor": 4
}
