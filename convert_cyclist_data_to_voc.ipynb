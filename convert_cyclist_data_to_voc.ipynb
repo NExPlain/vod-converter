{
 "cells": [
  {
   "cell_type": "code",
   "execution_count": 21,
   "metadata": {},
   "outputs": [],
   "source": [
    "# TODO: filled in dataset path, e.g. '/demo-mount/datasets/cyclist'\n",
    "cyclist_dataset_path = None\n",
    "# cyclist_dataset_path = '/demo-mount/datasets/cyclist'\n",
    "\n",
    "# TODO: filled in output voc dataset path, e.g. '/demo-mount/datasets/cyclist-voc'\n",
    "output_dataset_path = None\n",
    "# output_dataset_path = '/demo-mount/datasets/cyclist-voc'\n",
    "\n",
    "# TODO: filled cs231n project directory, e.g. '/home/lizhe/cs231n_project'\n",
    "cs231n_project_path = None\n",
    "# cs231n_project_path = '/home/lizhe/cs231n_project'\n",
    "\n",
    "# TODO: filled in the output kitti format eval data, e.g. '/demo-mount/datasets/cyclist-kitti'\n",
    "# eval_kitti library need a kitti format data as input, so we need to convert the validation and test data\n",
    "# from tsinghua dataset to kitti format.\n",
    "output_kitti_format_eval_data_path = None\n",
    "# output_kitti_format_eval_data_path = '/demo-mount/datasets/cyclist-kitti'\n",
    "\n",
    "assert cyclist_dataset_path is not None\n",
    "assert output_dataset_path is not None\n",
    "assert cs231n_project_path is not None\n",
    "assert output_kitti_format_eval_data_path is not None\n",
    "\n",
    "training_subdir = 'leftImg8bit/train/tsinghuaDaimlerDataset/'\n",
    "validation_subdir = 'leftImg8bit/valid/tsinghuaDaimlerDataset/'\n",
    "test_subdir = 'leftImg8bit/test/tsinghuaDaimlerDataset/'"
   ]
  },
  {
   "cell_type": "code",
   "execution_count": 76,
   "metadata": {},
   "outputs": [
    {
     "name": "stderr",
     "output_type": "stream",
     "text": [
      "shell-init: error retrieving current directory: getcwd: cannot access parent directories: No such file or directory\n",
      "chdir: error retrieving current directory: getcwd: cannot access parent directories: No such file or directory\n"
     ]
    }
   ],
   "source": [
    "%%bash -s \"$cyclist_dataset_path\" \"$training_subdir\" \"$validation_subdir\" \"$test_subdir\"\n",
    "\n",
    "cd $1\n",
    "ls -1 $2 | cut -d. -f1 > train.txt\n",
    "ls -1 $3 | cut -d. -f1 > valid.txt\n",
    "ls -1 $4 | cut -d. -f1 > test.txt\n",
    "\n",
    "# head -500 full_train.txt > train.txt\n",
    "# head -500 full_valid.txt > valid.txt\n",
    "# head -500 full_test.txt > test.txt"
   ]
  },
  {
   "cell_type": "code",
   "execution_count": 77,
   "metadata": {},
   "outputs": [
    {
     "name": "stdout",
     "output_type": "stream",
     "text": [
      "Successfully converted from tsinghua-daimler to voc.\n"
     ]
    },
    {
     "name": "stderr",
     "output_type": "stream",
     "text": [
      "shell-init: error retrieving current directory: getcwd: cannot access parent directories: No such file or directory\n",
      "chdir: error retrieving current directory: getcwd: cannot access parent directories: No such file or directory\n",
      "INFO:root:Namespace(filter_images_without_labels=False, from_key='tsinghua-daimler', from_path='/demo-mount/datasets/cyclist', select_only_known_labels=False, to_key='voc', to_path='/demo-mount/datasets/cyclist-voc')\n"
     ]
    }
   ],
   "source": [
    "%%bash -s \"$cyclist_dataset_path\" \"$output_dataset_path\" \"$cs231n_project_path\"\n",
    "\n",
    "# This takes around 30 minutes to finish\n",
    "cd $3/vod-converter\n",
    "python vod_converter/main.py --from tsinghua-daimler --from-path $1 --to voc --to-path $2"
   ]
  },
  {
   "cell_type": "code",
   "execution_count": 78,
   "metadata": {},
   "outputs": [
    {
     "name": "stderr",
     "output_type": "stream",
     "text": [
      "shell-init: error retrieving current directory: getcwd: cannot access parent directories: No such file or directory\n",
      "chdir: error retrieving current directory: getcwd: cannot access parent directories: No such file or directory\n"
     ]
    }
   ],
   "source": [
    "%%bash -s \"$cyclist_dataset_path\" \"$output_dataset_path\"\n",
    "# Generate train.txt, valid.txt and test.txt\n",
    "\n",
    "cp $1/train.txt $2/VOC2012/ImageSets/Main/raw_train.txt\n",
    "cp $1/valid.txt $2/VOC2012/ImageSets/Main/raw_valid.txt\n",
    "cp $1/test.txt $2/VOC2012/ImageSets/Main/raw_test.txt\n",
    "\n",
    "cd $2/VOC2012/ImageSets/Main/\n",
    "\n",
    "sed 's/_leftImg8bit//g' raw_train.txt > train.txt\n",
    "sed 's/_leftImg8bit//g' raw_valid.txt > valid.txt\n",
    "sed 's/_leftImg8bit//g' raw_test.txt > test.txt\n",
    "\n",
    "rm raw_train.txt\n",
    "rm raw_valid.txt\n",
    "rm raw_test.txt\n",
    "\n",
    "head -100 train.txt > small_train.txt\n",
    "head -10 valid.txt > small_valid.txt\n",
    "head -10 test.txt > small_test.txt"
   ]
  },
  {
   "cell_type": "code",
   "execution_count": 79,
   "metadata": {},
   "outputs": [
    {
     "name": "stdout",
     "output_type": "stream",
     "text": [
      "/home/lizhe/cs231n_project/detectron2-ResNeSt/datasets/tsinghua_cyclist/VOC2012\n"
     ]
    },
    {
     "name": "stderr",
     "output_type": "stream",
     "text": [
      "shell-init: error retrieving current directory: getcwd: cannot access parent directories: No such file or directory\n",
      "ln: failed to create symbolic link '/home/lizhe/cs231n_project/detectron2-ResNeSt/datasets/tsinghua_cyclist/VOC2012/VOC2012': File exists\n"
     ]
    }
   ],
   "source": [
    "%%bash -s \"$cs231n_project_path\" \"$output_dataset_path\"\n",
    "# Create linkage for detectron2 to load the data\n",
    "# Supposely the error can be ignored, you can check whether the linkage is correctly created in the printed directory.\n",
    "\n",
    "mkdir -p $1/detectron2-ResNeSt/datasets/tsinghua_cyclist\n",
    "ln -s $2/VOC2012 $1/detectron2-ResNeSt/datasets/tsinghua_cyclist/VOC2012\n",
    "echo $1/detectron2-ResNeSt/datasets/tsinghua_cyclist/VOC2012"
   ]
  },
  {
   "cell_type": "code",
   "execution_count": 28,
   "metadata": {},
   "outputs": [
    {
     "name": "stdout",
     "output_type": "stream",
     "text": [
      "start ingesting source data...\n",
      "ingesting 1000/1019 images in valid subdir\n",
      "ingesting 1000/2914 images in test subdir\n",
      "ingesting 2000/2914 images in test subdir\n",
      "finish ingesting source data!\n",
      "validated source data! start converting...\n",
      "converting 1000/3933...\n",
      "converting 2000/3933...\n",
      "converting 3000/3933...\n",
      "Finished converting! Start egesting to output...\n",
      "Successfully converted from tsinghua-daimler to kitti.\n"
     ]
    },
    {
     "name": "stderr",
     "output_type": "stream",
     "text": [
      "INFO:root:Namespace(filter_images_without_labels=False, from_key='tsinghua-daimler', from_path='/demo-mount/datasets/cyclist', select_only_known_labels=False, to_key='kitti', to_path='/demo-mount/datasets/cyclist-kitti-small')\n"
     ]
    }
   ],
   "source": [
    "%%bash -s \"$cyclist_dataset_path\" \"$output_kitti_format_eval_data_path\" \"$cs231n_project_path\" \"$training_subdir\" \"$validation_subdir\" \"$test_subdir\"\n",
    "\n",
    "cd $1\n",
    "ls -1 $4 | cut -d. -f1 > full_train.txt\n",
    "ls -1 $5 | cut -d. -f1 > full_valid.txt\n",
    "ls -1 $6 | cut -d. -f1 > full_test.txt\n",
    "\n",
    "# No need to convert training\n",
    "head -0 full_train.txt > train.txt\n",
    "# Convert all fo the validation data and test data\n",
    "cp full_valid.txt valid.txt\n",
    "cp full_test.txt test.txt\n",
    "\n",
    "# head -0 full_train.txt > train.txt\n",
    "# head -10 full_valid.txt > valid.txt\n",
    "# head -10 full_test.txt > test.txt\n",
    "\n",
    "cd $3/vod-converter\n",
    "mkdir -p /demo-mount/datasets/cyclist-kitti\n",
    "python vod_converter/main.py --from tsinghua-daimler --from-path $1 --to kitti --to-path $2\n",
    "\n",
    "cd $1\n",
    "cp full_train.txt train.txt\n",
    "cp full_valid.txt valid.txt\n",
    "cp full_test.txt test.txt"
   ]
  },
  {
   "cell_type": "code",
   "execution_count": 29,
   "metadata": {},
   "outputs": [],
   "source": [
    "%%bash -s \"$output_kitti_format_eval_data_path\" \"$cs231n_project_path\"\n",
    "mkdir $2/eval_kitti/build/data/object -p\n",
    "ln -s $1/training/label_2 $2/eval_kitti/build/data/object/label_2"
   ]
  },
  {
   "cell_type": "code",
   "execution_count": 32,
   "metadata": {},
   "outputs": [
    {
     "name": "stdout",
     "output_type": "stream",
     "text": [
      "-- Configuring done\n",
      "-- Generating done\n",
      "-- Build files have been written to: /home/lizhe/cs231n_project/eval_kitti/build\n",
      "Scanning dependencies of target evaluate_object\n",
      "[ 50%] Building CXX object CMakeFiles/evaluate_object.dir/evaluate_object.cpp.o\n",
      "[100%] Linking CXX executable evaluate_object\n",
      "[100%] Built target evaluate_object\n"
     ]
    }
   ],
   "source": [
    "%%bash -s \"$cs231n_project_path\"\n",
    "\n",
    "# Rebuild eval_kitti as there's code change\n",
    "cd $1/eval_kitti/build\n",
    "cmake ..\n",
    "make"
   ]
  },
  {
   "cell_type": "code",
   "execution_count": null,
   "metadata": {},
   "outputs": [],
   "source": []
  }
 ],
 "metadata": {
  "kernelspec": {
   "display_name": "Python 3",
   "language": "python",
   "name": "python3"
  },
  "language_info": {
   "codemirror_mode": {
    "name": "ipython",
    "version": 3
   },
   "file_extension": ".py",
   "mimetype": "text/x-python",
   "name": "python",
   "nbconvert_exporter": "python",
   "pygments_lexer": "ipython3",
   "version": "3.7.6"
  }
 },
 "nbformat": 4,
 "nbformat_minor": 4
}
